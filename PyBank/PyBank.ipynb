{
 "cells": [
  {
   "cell_type": "code",
   "execution_count": 1,
   "metadata": {},
   "outputs": [],
   "source": [
    "import pandas as pd\n"
   ]
  },
  {
   "cell_type": "code",
   "execution_count": 40,
   "metadata": {},
   "outputs": [
    {
     "data": {
      "text/html": [
       "<div>\n",
       "<style scoped>\n",
       "    .dataframe tbody tr th:only-of-type {\n",
       "        vertical-align: middle;\n",
       "    }\n",
       "\n",
       "    .dataframe tbody tr th {\n",
       "        vertical-align: top;\n",
       "    }\n",
       "\n",
       "    .dataframe thead th {\n",
       "        text-align: right;\n",
       "    }\n",
       "</style>\n",
       "<table border=\"1\" class=\"dataframe\">\n",
       "  <thead>\n",
       "    <tr style=\"text-align: right;\">\n",
       "      <th></th>\n",
       "      <th>Date</th>\n",
       "      <th>Revenue</th>\n",
       "    </tr>\n",
       "  </thead>\n",
       "  <tbody>\n",
       "    <tr>\n",
       "      <th>0</th>\n",
       "      <td>Oct-12</td>\n",
       "      <td>1154293</td>\n",
       "    </tr>\n",
       "    <tr>\n",
       "      <th>1</th>\n",
       "      <td>Nov-12</td>\n",
       "      <td>885773</td>\n",
       "    </tr>\n",
       "    <tr>\n",
       "      <th>2</th>\n",
       "      <td>Dec-12</td>\n",
       "      <td>-448704</td>\n",
       "    </tr>\n",
       "    <tr>\n",
       "      <th>3</th>\n",
       "      <td>Jan-13</td>\n",
       "      <td>563679</td>\n",
       "    </tr>\n",
       "    <tr>\n",
       "      <th>4</th>\n",
       "      <td>Feb-13</td>\n",
       "      <td>555394</td>\n",
       "    </tr>\n",
       "  </tbody>\n",
       "</table>\n",
       "</div>"
      ],
      "text/plain": [
       "     Date  Revenue\n",
       "0  Oct-12  1154293\n",
       "1  Nov-12   885773\n",
       "2  Dec-12  -448704\n",
       "3  Jan-13   563679\n",
       "4  Feb-13   555394"
      ]
     },
     "execution_count": 40,
     "metadata": {},
     "output_type": "execute_result"
    }
   ],
   "source": [
    "data = 'budget_data_1.csv'\n",
    "\n",
    "data_df = pd.read_csv(data)\n",
    "data_df.head()"
   ]
  },
  {
   "cell_type": "code",
   "execution_count": 41,
   "metadata": {},
   "outputs": [
    {
     "name": "stdout",
     "output_type": "stream",
     "text": [
      "Total Revenue: $18971412\n"
     ]
    }
   ],
   "source": [
    "total_revenue = data_df['Revenue'].sum()\n",
    "\n",
    "print('Total Revenue: ' + '$' + str(total_revenue))"
   ]
  },
  {
   "cell_type": "code",
   "execution_count": 42,
   "metadata": {},
   "outputs": [
    {
     "name": "stdout",
     "output_type": "stream",
     "text": [
      "Total Months: 41\n"
     ]
    }
   ],
   "source": [
    "total_months = data_df['Date'].count()\n",
    "\n",
    "print('Total Months: ' + str(total_months)) "
   ]
  },
  {
   "cell_type": "code",
   "execution_count": 43,
   "metadata": {},
   "outputs": [
    {
     "data": {
      "text/html": [
       "<div>\n",
       "<style scoped>\n",
       "    .dataframe tbody tr th:only-of-type {\n",
       "        vertical-align: middle;\n",
       "    }\n",
       "\n",
       "    .dataframe tbody tr th {\n",
       "        vertical-align: top;\n",
       "    }\n",
       "\n",
       "    .dataframe thead th {\n",
       "        text-align: right;\n",
       "    }\n",
       "</style>\n",
       "<table border=\"1\" class=\"dataframe\">\n",
       "  <thead>\n",
       "    <tr style=\"text-align: right;\">\n",
       "      <th></th>\n",
       "      <th>Date</th>\n",
       "      <th>Revenue</th>\n",
       "      <th>Monthly Revenue Delta</th>\n",
       "    </tr>\n",
       "  </thead>\n",
       "  <tbody>\n",
       "    <tr>\n",
       "      <th>0</th>\n",
       "      <td>Oct-12</td>\n",
       "      <td>1154293</td>\n",
       "      <td>NaN</td>\n",
       "    </tr>\n",
       "    <tr>\n",
       "      <th>1</th>\n",
       "      <td>Nov-12</td>\n",
       "      <td>885773</td>\n",
       "      <td>-268520.0</td>\n",
       "    </tr>\n",
       "    <tr>\n",
       "      <th>2</th>\n",
       "      <td>Dec-12</td>\n",
       "      <td>-448704</td>\n",
       "      <td>-1334477.0</td>\n",
       "    </tr>\n",
       "    <tr>\n",
       "      <th>3</th>\n",
       "      <td>Jan-13</td>\n",
       "      <td>563679</td>\n",
       "      <td>1012383.0</td>\n",
       "    </tr>\n",
       "    <tr>\n",
       "      <th>4</th>\n",
       "      <td>Feb-13</td>\n",
       "      <td>555394</td>\n",
       "      <td>-8285.0</td>\n",
       "    </tr>\n",
       "  </tbody>\n",
       "</table>\n",
       "</div>"
      ],
      "text/plain": [
       "     Date  Revenue  Monthly Revenue Delta\n",
       "0  Oct-12  1154293                    NaN\n",
       "1  Nov-12   885773              -268520.0\n",
       "2  Dec-12  -448704             -1334477.0\n",
       "3  Jan-13   563679              1012383.0\n",
       "4  Feb-13   555394                -8285.0"
      ]
     },
     "execution_count": 43,
     "metadata": {},
     "output_type": "execute_result"
    }
   ],
   "source": [
    "rev_difference = data_df['Revenue'].diff()\n",
    "\n",
    "rev_difference\n",
    "\n",
    "data_df['Monthly Revenue Delta'] = rev_difference\n",
    "data_df.head()"
   ]
  },
  {
   "cell_type": "code",
   "execution_count": 110,
   "metadata": {
    "scrolled": true
   },
   "outputs": [
    {
     "name": "stdout",
     "output_type": "stream",
     "text": [
      "Average Revenue Change: $-6758.98\n"
     ]
    }
   ],
   "source": [
    "avg_monthly_delta = data_df['Monthly Revenue Delta'].mean()\n",
    "\n",
    "print('Average Revenue Change: ' + '$' + str(round(avg_monthly_delta, 2)))\n"
   ]
  },
  {
   "cell_type": "code",
   "execution_count": 148,
   "metadata": {},
   "outputs": [
    {
     "data": {
      "text/html": [
       "<div>\n",
       "<style scoped>\n",
       "    .dataframe tbody tr th:only-of-type {\n",
       "        vertical-align: middle;\n",
       "    }\n",
       "\n",
       "    .dataframe tbody tr th {\n",
       "        vertical-align: top;\n",
       "    }\n",
       "\n",
       "    .dataframe thead th {\n",
       "        text-align: right;\n",
       "    }\n",
       "</style>\n",
       "<table border=\"1\" class=\"dataframe\">\n",
       "  <thead>\n",
       "    <tr style=\"text-align: right;\">\n",
       "      <th></th>\n",
       "      <th>Date</th>\n",
       "      <th>Monthly Revenue Delta</th>\n",
       "    </tr>\n",
       "  </thead>\n",
       "  <tbody>\n",
       "    <tr>\n",
       "      <th>40</th>\n",
       "      <td>Feb-16</td>\n",
       "      <td>1837235.0</td>\n",
       "    </tr>\n",
       "  </tbody>\n",
       "</table>\n",
       "</div>"
      ],
      "text/plain": [
       "      Date  Monthly Revenue Delta\n",
       "40  Feb-16              1837235.0"
      ]
     },
     "execution_count": 148,
     "metadata": {},
     "output_type": "execute_result"
    }
   ],
   "source": [
    "max_rev_change = data_df[['Date', 'Monthly Revenue Delta']][data_df['Monthly Revenue Delta'] == data_df['Monthly Revenue Delta'].max()]\n",
    "max_rev_change"
   ]
  },
  {
   "cell_type": "code",
   "execution_count": 131,
   "metadata": {},
   "outputs": [
    {
     "data": {
      "text/html": [
       "<div>\n",
       "<style scoped>\n",
       "    .dataframe tbody tr th:only-of-type {\n",
       "        vertical-align: middle;\n",
       "    }\n",
       "\n",
       "    .dataframe tbody tr th {\n",
       "        vertical-align: top;\n",
       "    }\n",
       "\n",
       "    .dataframe thead th {\n",
       "        text-align: right;\n",
       "    }\n",
       "</style>\n",
       "<table border=\"1\" class=\"dataframe\">\n",
       "  <thead>\n",
       "    <tr style=\"text-align: right;\">\n",
       "      <th></th>\n",
       "      <th>Date</th>\n",
       "      <th>Monthly Revenue Delta</th>\n",
       "    </tr>\n",
       "  </thead>\n",
       "  <tbody>\n",
       "    <tr>\n",
       "      <th>22</th>\n",
       "      <td>Aug-14</td>\n",
       "      <td>-1779747.0</td>\n",
       "    </tr>\n",
       "  </tbody>\n",
       "</table>\n",
       "</div>"
      ],
      "text/plain": [
       "      Date  Monthly Revenue Delta\n",
       "22  Aug-14             -1779747.0"
      ]
     },
     "execution_count": 131,
     "metadata": {},
     "output_type": "execute_result"
    }
   ],
   "source": [
    "min_rev_change = data_df[['Date', 'Monthly Revenue Delta']][data_df['Monthly Revenue Delta'] == data_df['Monthly Revenue Delta'].min()]\n",
    "min_rev_change"
   ]
  },
  {
   "cell_type": "code",
   "execution_count": null,
   "metadata": {},
   "outputs": [],
   "source": []
  },
  {
   "cell_type": "code",
   "execution_count": null,
   "metadata": {},
   "outputs": [],
   "source": []
  },
  {
   "cell_type": "code",
   "execution_count": null,
   "metadata": {},
   "outputs": [],
   "source": []
  },
  {
   "cell_type": "code",
   "execution_count": null,
   "metadata": {},
   "outputs": [],
   "source": []
  },
  {
   "cell_type": "code",
   "execution_count": 175,
   "metadata": {},
   "outputs": [
    {
     "name": "stdout",
     "output_type": "stream",
     "text": [
      "Max Revenue Change: Feb-16 (1837235)\n"
     ]
    }
   ],
   "source": [
    "max_rev_change = data_df[['Date', 'Monthly Revenue Delta']][data_df['Monthly Revenue Delta'] == data_df['Monthly Revenue Delta'].max()]\n",
    "max_rev_change_reset = max_rev_change.reset_index(drop=True)\n",
    "max_date = max_rev_change_reset.loc[:,'Date'].values[0]\n",
    "max_date\n",
    "\n",
    "max_rev = max_rev_change_reset.loc[:,'Monthly Revenue Delta'].values[0]\n",
    "max_rev\n",
    "\n",
    "print('Max Revenue Change: {} ({})'.format(max_date, int(max_rev)))"
   ]
  },
  {
   "cell_type": "code",
   "execution_count": 176,
   "metadata": {},
   "outputs": [
    {
     "name": "stdout",
     "output_type": "stream",
     "text": [
      "Min Revenue Change: Aug-14 (-1779747)\n"
     ]
    }
   ],
   "source": [
    "min_rev_change = data_df[['Date', 'Monthly Revenue Delta']][data_df['Monthly Revenue Delta'] == data_df['Monthly Revenue Delta'].min()]\n",
    "min_rev_change_reset = min_rev_change.reset_index(drop=True)\n",
    "min_date = min_rev_change_reset.loc[:,'Date'].values[0]\n",
    "min_date\n",
    "\n",
    "min_rev = min_rev_change_reset.loc[:,'Monthly Revenue Delta'].values[0]\n",
    "min_rev\n",
    "\n",
    "print('Min Revenue Change: {} ({})'.format(min_date, int(min_rev)))"
   ]
  },
  {
   "cell_type": "code",
   "execution_count": null,
   "metadata": {},
   "outputs": [],
   "source": []
  }
 ],
 "metadata": {
  "kernelspec": {
   "display_name": "Python 3",
   "language": "python",
   "name": "python3"
  },
  "language_info": {
   "codemirror_mode": {
    "name": "ipython",
    "version": 3
   },
   "file_extension": ".py",
   "mimetype": "text/x-python",
   "name": "python",
   "nbconvert_exporter": "python",
   "pygments_lexer": "ipython3",
   "version": "3.6.4"
  }
 },
 "nbformat": 4,
 "nbformat_minor": 2
}
